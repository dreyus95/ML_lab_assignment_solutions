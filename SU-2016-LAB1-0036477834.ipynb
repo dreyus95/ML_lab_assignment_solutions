{
 "cells": [
  {
   "cell_type": "markdown",
   "metadata": {},
   "source": [
    "Sveučilište u Zagrebu<br>\n",
    "Fakultet elektrotehnike i računarstva\n",
    "\n",
    "## Strojno učenje 2016./2017.\n",
    "\n",
    "<a href=\"http://www.fer.unizg.hr/predmet/su\">http://www.fer.unizg.hr/predmet/su</a>"
   ]
  },
  {
   "cell_type": "markdown",
   "metadata": {},
   "source": [
    "### Laboratorijska vježba 1: Regresija\n",
    "\n",
    "(c) 2015-2016 Jan Šnajder, Domagoj Alagić i Mladen Karan\n",
    "\n",
    "<i>Verzija: 0.2</i> <br/>\n",
    "<i>Zadnji put ažurirano: 11. listopada 2016.</i> "
   ]
  },
  {
   "cell_type": "markdown",
   "metadata": {},
   "source": [
    "Objavljeno: **12. listopada 2016.**<br>\n",
    "Rok za predaju: U terminu vježbe u tjednu od **17. listopada 2016.**"
   ]
  },
  {
   "cell_type": "markdown",
   "metadata": {},
   "source": [
    "### Upute\n",
    "\n",
    "Prva laboratorijska vježba sastoji se od **sedam** zadataka. Kako bi kvalitetnije, ali i na manje zamoran način usvojili gradivo ovog kolegija, potrudili smo se uključiti tri vrste zadataka: **1)** implementacija manjih algoritama, modela ili postupaka; **2)** eksperimenti s raznim modelima te njihovim hiperparametrima, te **3)** primjena modela na (stvarnim) podatcima. Ovim zadatcima pokrivamo dvije paradigme učenja: učenje izgradnjom (engl. *learning by building*) i učenje eksperimentiranjem (engl. *learning by experimenting*).\n",
    "\n",
    "U nastavku slijedite upute navedene u ćelijama s tekstom. Rješavanje vježbe svodi se na **dopunjavanje ove bilježnice**: umetanja ćelije ili više njih **ispod** teksta zadatka, pisanja odgovarajućeg kôda te evaluiranja ćelija. \n",
    "\n",
    "Osigurajte da u potpunosti **razumijete** kôd koji ste napisali. Kod predaje vježbe, morate biti u stanju na zahtjev asistenta (ili demonstratora) preinačiti i ponovno evaluirati Vaš kôd. Nadalje, morate razumjeti teorijske osnove onoga što radite, u okvirima onoga što smo obradili na predavanju. Ispod nekih zadataka možete naći i pitanja koja služe kao smjernice za bolje razumijevanje gradiva (**nemojte pisati** odgovore na pitanja u bilježnicu). Stoga se nemojte ograničiti samo na to da riješite zadatak, nego slobodno eksperimentirajte. To upravo i jest svrha ovih vježbi.\n",
    "\n",
    "Vježbe trebate raditi **samostalno**. Možete se konzultirati s drugima o načelnom načinu rješavanja, ali u konačnici morate sami odraditi vježbu. U protivnome vježba nema smisla."
   ]
  },
  {
   "cell_type": "code",
   "execution_count": 1,
   "metadata": {
    "collapsed": false
   },
   "outputs": [
    {
     "name": "stdout",
     "output_type": "stream",
     "text": [
      "Populating the interactive namespace from numpy and matplotlib\n"
     ]
    }
   ],
   "source": [
    "# Učitaj osnovne biblioteke...\n",
    "import numpy as np\n",
    "import scipy as sp\n",
    "import sklearn\n",
    "import matplotlib.pyplot as plt\n",
    "%pylab inline"
   ]
  },
  {
   "cell_type": "markdown",
   "metadata": {},
   "source": [
    "## Zadatci"
   ]
  },
  {
   "cell_type": "markdown",
   "metadata": {},
   "source": [
    "### 1. Univarijatna regresija"
   ]
  },
  {
   "cell_type": "markdown",
   "metadata": {},
   "source": [
    "Zadan je skup primjera $\\mathcal{D}=\\{(x^{(i)},y^{(i)})\\}_{i=1}^4 = \\{(0,4),(1,1),(2,2),(4,5)\\}$. Primjere predstavite matrixom $\\mathbf{X}$ dimenzija $N\\times n$ (u ovom slučaju $4\\times 1$) i vektorom oznaka $\\textbf{y}$, dimenzija $N\\times 1$ (u ovom slučaju $4\\times 1$), na sljedeći način:\n"
   ]
  },
  {
   "cell_type": "code",
   "execution_count": 2,
   "metadata": {
    "collapsed": false
   },
   "outputs": [],
   "source": [
    "X = np.array([[0],[1],[2],[4]])\n",
    "y = np.array([4,1,2,5])"
   ]
  },
  {
   "cell_type": "markdown",
   "metadata": {},
   "source": [
    "### (a)\n",
    "\n",
    "Proučite funkciju [`PolynomialFeatures`](http://scikit-learn.org/stable/modules/generated/sklearn.preprocessing.PolynomialFeatures.html) iz biblioteke `sklearn` i upotrijebite je za generiranje dizajn-matrice $\\mathbf{\\Phi}$ koja ne koristi preslikavanje u prostor više dimenzije (samo će svakom primjeru biti dodane *dummy* jedinice; $m=n+1$).\n"
   ]
  },
  {
   "cell_type": "code",
   "execution_count": 3,
   "metadata": {
    "collapsed": false
   },
   "outputs": [
    {
     "data": {
      "text/plain": [
       "array([[ 1.,  0.],\n",
       "       [ 1.,  1.],\n",
       "       [ 1.,  2.],\n",
       "       [ 1.,  4.]])"
      ]
     },
     "execution_count": 3,
     "metadata": {},
     "output_type": "execute_result"
    }
   ],
   "source": [
    "# Vaš kôd ovdje...\n",
    "from sklearn.preprocessing import PolynomialFeatures\n",
    "\n",
    "poly = PolynomialFeatures(1)\n",
    "dm = poly.fit_transform(X)\n",
    "dm"
   ]
  },
  {
   "cell_type": "markdown",
   "metadata": {},
   "source": [
    "### (b)"
   ]
  },
  {
   "cell_type": "markdown",
   "metadata": {},
   "source": [
    "Upoznajte se s modulom [`linalg`](http://docs.scipy.org/doc/numpy/reference/routines.linalg.html). Izračunajte težine $\\mathbf{w}$ modela linearne regresije kao $\\mathbf{w}=(\\mathbf{\\Phi}^\\intercal\\mathbf{\\Phi})^{-1}\\mathbf{\\Phi}^\\intercal\\mathbf{y}$. Zatim se uvjerite da isti rezultat možete dobiti izračunom pseudoinverza $\\mathbf{\\Phi}^+$ dizajn-matrice, tj. $\\mathbf{w}=\\mathbf{\\Phi}^+\\mathbf{y}$, korištenjem funkcije [`pinv`](http://docs.scipy.org/doc/numpy/reference/generated/numpy.linalg.pinv.html)."
   ]
  },
  {
   "cell_type": "code",
   "execution_count": 4,
   "metadata": {
    "collapsed": true
   },
   "outputs": [],
   "source": [
    "from numpy import linalg"
   ]
  },
  {
   "cell_type": "code",
   "execution_count": 5,
   "metadata": {
    "collapsed": false
   },
   "outputs": [
    {
     "name": "stdout",
     "output_type": "stream",
     "text": [
      "[ 2.2         0.45714286]\n",
      "\n",
      "[ 2.2         0.45714286]\n"
     ]
    }
   ],
   "source": [
    "# Vaš kôd ovdje...\n",
    "weights = np.dot(np.transpose(dm), dm)\n",
    "weights = linalg.inv(weights)\n",
    "weights = np.dot(weights, np.transpose(dm))\n",
    "weights = np.dot(weights, y)\n",
    "\n",
    "print weights\n",
    "\n",
    "weights2 = np.dot(linalg.pinv(dm), y)\n",
    "\n",
    "print \"\\n\",weights2"
   ]
  },
  {
   "cell_type": "markdown",
   "metadata": {},
   "source": [
    "Radi jasnoće, u nastavku je vektor $\\mathbf{x}$ s dodanom *dummy* jedinicom $x_0=1$ označen kao $\\tilde{\\mathbf{x}}$."
   ]
  },
  {
   "cell_type": "markdown",
   "metadata": {},
   "source": [
    "### (c)"
   ]
  },
  {
   "cell_type": "markdown",
   "metadata": {},
   "source": [
    "Prikažite primjere iz $\\mathcal{D}$ i funkciju $h(\\tilde{\\mathbf{x}})=\\mathbf{w}^\\intercal\\tilde{\\mathbf{x}}$. Izračunajte pogrešku učenja prema izrazu $E(h|\\mathcal{D})=\\frac{1}{2}\\sum_{i=1}^N(\\tilde{\\mathbf{x}}^{(i)} - h(\\tilde{\\mathbf{x}}))^2$. Možete koristiti funkciju srednje kvadratne pogreške [`mean_squared_error`]( http://scikit-learn.org/stable/modules/generated/sklearn.metrics.mean_squared_error.html#sklearn.metrics.mean_squared_error) iz modula [`sklearn.metrics`](http://scikit-learn.org/stable/modules/classes.html#module-sklearn.metrics).\n",
    "\n",
    "**Q:** Gore definirana funkcija pogreške $E(h|\\mathcal{D})$ i funkcija srednje kvadratne pogreške nisu posve identične. U čemu je razlika? Koja je \"realnija\"?"
   ]
  },
  {
   "cell_type": "code",
   "execution_count": 6,
   "metadata": {
    "collapsed": false
   },
   "outputs": [
    {
     "name": "stdout",
     "output_type": "stream",
     "text": [
      "[ 2.2         2.65714286  3.11428571  4.02857143]\n",
      "2.04285714286\n"
     ]
    }
   ],
   "source": [
    "# Vaš kôd ovdje...\n",
    "hx = np.dot(weights, np.transpose(dm))\n",
    "\n",
    "from sklearn.metrics import mean_squared_error\n",
    "h = np.dot(dm, transpose(weights))\n",
    "print h\n",
    "E = mean_squared_error(y, hx)\n",
    "print E"
   ]
  },
  {
   "cell_type": "markdown",
   "metadata": {},
   "source": [
    "### (d)"
   ]
  },
  {
   "cell_type": "markdown",
   "metadata": {},
   "source": [
    "Uvjerite se da za primjere iz $\\mathcal{D}$ težine $\\mathbf{w}$ ne možemo naći rješavanjem sustava $\\mathbf{w}=\\mathbf{\\Phi}^{-1}\\mathbf{y}$, već da nam doista treba pseudoinverz.\n",
    "\n",
    "**Q:** Zašto je to slučaj? Bi li se problem mogao riješiti preslikavanjem primjera u višu dimenziju? Ako da, bi li to uvijek funkcioniralo, neovisno o skupu primjera $\\mathcal{D}$? Pokažite na primjeru."
   ]
  },
  {
   "cell_type": "code",
   "execution_count": 7,
   "metadata": {
    "collapsed": false
   },
   "outputs": [
    {
     "name": "stdout",
     "output_type": "stream",
     "text": [
      "[ 4.         -5.91666667  3.375      -0.45833333]\n"
     ]
    },
    {
     "data": {
      "text/plain": [
       "'Nece raditi jer matrica dm nema inverz, medutim preslikavanjem u visu dimenziju sa PolynomialFeatures uspijevamo'"
      ]
     },
     "execution_count": 7,
     "metadata": {},
     "output_type": "execute_result"
    }
   ],
   "source": [
    "# Vaš kôd ovdje...\n",
    "\n",
    "poly = sklearn.preprocessing.PolynomialFeatures(3)\n",
    "dm2 = poly.fit_transform(X)\n",
    "weights3 = np.dot(linalg.inv(dm2), y)\n",
    "print (weights3)\n",
    "\n",
    "#fail_weights = np.dot(linalg.inv(dm), y)\n",
    "#fail_weights\n",
    "\"\"\"Nece raditi jer matrica dm nema inverz, medutim preslikavanjem u visu dimenziju sa PolynomialFeatures uspijevamo\"\"\""
   ]
  },
  {
   "cell_type": "markdown",
   "metadata": {},
   "source": [
    "### (e) "
   ]
  },
  {
   "cell_type": "markdown",
   "metadata": {},
   "source": [
    "Proučite klasu [`LinearRegression`](http://scikit-learn.org/stable/modules/generated/sklearn.linear_model.LinearRegression.html#sklearn.linear_model.LinearRegression) iz modula [`sklearn.linear_model`](http://scikit-learn.org/stable/modules/classes.html#module-sklearn.linear_model). Uvjerite se da su težine koje izračunava ta funkcija (dostupne pomoću atributa `coef_` i `intercept_`) jednake onima koje ste izračunali gore. Izračunajte predikcije modela (metoda `predict`) i uvjerite se da je pogreška učenja identična onoj koju ste ranije izračunali."
   ]
  },
  {
   "cell_type": "code",
   "execution_count": 8,
   "metadata": {
    "collapsed": false
   },
   "outputs": [],
   "source": [
    "from sklearn.linear_model import LinearRegression"
   ]
  },
  {
   "cell_type": "code",
   "execution_count": 9,
   "metadata": {
    "collapsed": false
   },
   "outputs": [
    {
     "name": "stdout",
     "output_type": "stream",
     "text": [
      "[ 2.2         0.45714286]\n",
      "2.04285714286\n"
     ]
    }
   ],
   "source": [
    "# Vaš kôd ovdje...\n",
    "lin = LinearRegression()\n",
    "\n",
    "lin.fit(dm, y)\n",
    "\n",
    "print np.hstack((lin.intercept_,lin.coef_[1:]))\n",
    "print sklearn.metrics.mean_squared_error(y, lin.predict(dm))"
   ]
  },
  {
   "cell_type": "markdown",
   "metadata": {},
   "source": [
    "### 2. Polinomijalna regresija i utjecaj šuma"
   ]
  },
  {
   "cell_type": "markdown",
   "metadata": {},
   "source": [
    "### (a)\n",
    "\n",
    "Razmotrimo sada regresiju na većem broju primjera. Definirajte funkciju `make_labels(X, f, noise=0)` koja uzima matricu neoznačenih primjera $\\mathbf{X}_{N\\times n}$ te generira vektor njihovih oznaka $\\mathbf{y}_{N\\times 1}$. Oznake se generiraju kao $y^{(i)} = f(x^{(i)})+\\mathcal{N}(0,\\sigma^2)$, gdje je $f:\\mathbb{R}^n\\to\\mathbb{R}$ stvarna funkcija koja je generirala podatke (koja nam je u stvarnosti nepoznata), a $\\sigma$ je standardna devijacija Gaussovog šuma, definirana parametrom `noise`. Za generiranje šuma možete koristiti funkciju [`numpy.random.normal`](http://docs.scipy.org/doc/numpy/reference/generated/numpy.random.normal.html). \n",
    "\n",
    "Generirajte skup za učenje od $N=50$ primjera uniformno distribuiranih u intervalu $[-5,5]$ pomoću funkcije $f(x) = 5 + x -2 x^2 -5 x^3$ uz šum  $\\sigma=200$:"
   ]
  },
  {
   "cell_type": "code",
   "execution_count": 10,
   "metadata": {
    "collapsed": false
   },
   "outputs": [],
   "source": [
    "from numpy.random import normal"
   ]
  },
  {
   "cell_type": "code",
   "execution_count": 11,
   "metadata": {
    "collapsed": false,
    "scrolled": true
   },
   "outputs": [],
   "source": [
    "def make_labels(X, f, noise=0) :\n",
    "    # Vaš kôd ovdje...\n",
    "    y = list()\n",
    "    for x in X:\n",
    "        y.append(f(x) + normal(0,noise))\n",
    "    return np.array(y)\n",
    "\n",
    "def f(x):\n",
    "    return (5 + x - 2*x**2 - 5*x**3)\n",
    "\n",
    "\n",
    "# Vaš kôd ovdje...\n",
    "X = uniform(-5,5,50)\n",
    "X = sort(X)\n",
    "X = np.reshape(X,(len(X), 1))\n",
    "y = make_labels(X, f, 200)"
   ]
  },
  {
   "cell_type": "markdown",
   "metadata": {},
   "source": [
    "Prikažite taj skup funkcijom [`scatter`](http://matplotlib.org/api/pyplot_api.html#matplotlib.pyplot.scatter)."
   ]
  },
  {
   "cell_type": "code",
   "execution_count": 12,
   "metadata": {
    "collapsed": false,
    "scrolled": true
   },
   "outputs": [
    {
     "data": {
      "text/plain": [
       "<matplotlib.collections.PathCollection at 0x97e9208>"
      ]
     },
     "execution_count": 12,
     "metadata": {},
     "output_type": "execute_result"
    },
    {
     "data": {
      "image/png": "[encoded data removed]",
      "text/plain": [
       "<matplotlib.figure.Figure at 0x9a93358>"
      ]
     },
     "metadata": {},
     "output_type": "display_data"
    }
   ],
   "source": [
    "# Vaš kôd ovdje...\n",
    "scatter(X, y)"
   ]
  },
  {
   "cell_type": "markdown",
   "metadata": {},
   "source": [
    "### (b)"
   ]
  },
  {
   "cell_type": "markdown",
   "metadata": {},
   "source": [
    "Trenirajte model polinomijalne regresije stupnja $d=3$. Na istom grafikonu prikažite naučeni model $h(\\mathbf{x})=\\mathbf{w}^\\intercal\\tilde{\\mathbf{x}}$ i primjere za učenje. Izračunajte pogrešku učenja modela."
   ]
  },
  {
   "cell_type": "code",
   "execution_count": 13,
   "metadata": {
    "collapsed": false
   },
   "outputs": [
    {
     "name": "stdout",
     "output_type": "stream",
     "text": [
      "E:  26661.7542991\n"
     ]
    },
    {
     "data": {
      "text/plain": [
       "(-6, 6)"
      ]
     },
     "execution_count": 13,
     "metadata": {},
     "output_type": "execute_result"
    },
    {
     "data": {
      "image/png": "[encoded data removed]",
      "text/plain": [
       "<matplotlib.figure.Figure at 0x9bcd160>"
      ]
     },
     "metadata": {},
     "output_type": "display_data"
    }
   ],
   "source": [
    "# Vaš kôd ovdje...\n",
    "poly = PolynomialFeatures(3)\n",
    "dm = poly.fit_transform(X)\n",
    "weights = np.dot(linalg.pinv(dm), y)\n",
    "\n",
    "hx = np.dot(dm, weights)\n",
    "\n",
    "E = mean_squared_error(y, hx)\n",
    "print \"E: \",E\n",
    "\n",
    "plt.scatter(X, y)\n",
    "plt.plot(X, np.array(hx), color='red')\n",
    "plt.grid()\n",
    "axes = plt.gca()\n",
    "axes.set_xlim([-6,6])"
   ]
  },
  {
   "cell_type": "markdown",
   "metadata": {},
   "source": [
    "### 3. Odabir modela"
   ]
  },
  {
   "cell_type": "markdown",
   "metadata": {},
   "source": [
    "### (a)\n",
    "\n",
    "Na skupu podataka iz zadatka 2 trenirajte pet modela linearne regresije $\\mathcal{H}_d$ različite složenosti, gdje je $d$ stupanj polinoma, $d\\in\\{1,3,5,10,20\\}$. Prikažite na istome grafikonu skup za učenje i funkcije $h_d(\\mathbf{x})$ za svih pet modela (preporučujemo koristiti `plot` unutar `for` petlje). Izračunajte pogrešku učenja svakog od modela.\n",
    "\n",
    "**Q:** Koji model ima najmanju pogrešku učenja i zašto?"
   ]
  },
  {
   "cell_type": "code",
   "execution_count": 14,
   "metadata": {
    "collapsed": false
   },
   "outputs": [
    {
     "name": "stdout",
     "output_type": "stream",
     "text": [
      "[38193.017, 26661.754, 24574.574, 23131.714, 17273.718]\n"
     ]
    },
    {
     "data": {
      "image/png": "[encoded data removed]",
      "text/plain": [
       "<matplotlib.figure.Figure at 0x9e41c50>"
      ]
     },
     "metadata": {},
     "output_type": "display_data"
    }
   ],
   "source": [
    "# Vaš kôd ovdje...\n",
    "scatter(X,y)\n",
    "model = LinearRegression()\n",
    "error=[]\n",
    "for i in (1,3,5,10,20):\n",
    "    poly = PolynomialFeatures(i)\n",
    "    dm = poly.fit_transform(X)\n",
    "    model.fit(dm, y)\n",
    "    h = model.predict(dm)\n",
    "    plot(X,h)\n",
    "    error.append(float(\"%.3f\" %mean_squared_error(y, h)))\n",
    "    \n",
    "print error"
   ]
  },
  {
   "cell_type": "markdown",
   "metadata": {},
   "source": [
    "### (b)"
   ]
  },
  {
   "cell_type": "markdown",
   "metadata": {},
   "source": [
    "Razdvojite skup primjera iz zadatka 2 pomoću funkcije [`cross_validation.train_test_split`](http://scikit-learn.org/stable/modules/generated/sklearn.cross_validation.train_test_split.html#sklearn.cross_validation.train_test_split) na skup za učenja i skup za ispitivanje u omjeru 1:1. Prikažite na jednom grafikonu pogrešku učenja i ispitnu pogrešku za modele polinomijalne regresije $\\mathcal{H}_d$, sa stupnjem polinoma $d$ u rasponu $d\\in\\{1,20\\}$. Radi preciznosti, funkcije $h(\\mathbf{x})$ iscrtajte na cijelom skupu primjera (ali pogrešku generalizacije računajte, naravno, samo na ispitnome skupu). Budući da kvadratna pogreška brzo raste za veće stupnjeve polinoma, umjesto da iscrtate izravno iznose pogrešaka, iscrtajte njihove logaritme.\n",
    "\n",
    "**NB:** Podjela na skupa za učenje i skup za ispitivanje mora za svih pet modela biti identična.\n",
    "\n",
    "**Q:** Je li rezultat u skladu s očekivanjima? Koji biste model odabrali i zašto?\n",
    "\n",
    "**Q:** Pokrenite iscrtavanje više puta. U čemu je problem? Bi li problem bio jednako izražen kad bismo imali više primjera? Zašto?"
   ]
  },
  {
   "cell_type": "code",
   "execution_count": 15,
   "metadata": {
    "collapsed": false
   },
   "outputs": [
    {
     "name": "stderr",
     "output_type": "stream",
     "text": [
      "C:\\Users\\dreyus95\\Anaconda2\\lib\\site-packages\\sklearn\\cross_validation.py:44: DeprecationWarning: This module was deprecated in version 0.18 in favor of the model_selection module into which all the refactored classes and functions are moved. Also note that the interface of the new CV iterators are different from that of this module. This module will be removed in 0.20.\n",
      "  \"This module will be removed in 0.20.\", DeprecationWarning)\n"
     ]
    }
   ],
   "source": [
    "from sklearn import cross_validation"
   ]
  },
  {
   "cell_type": "code",
   "execution_count": 16,
   "metadata": {
    "collapsed": false
   },
   "outputs": [
    {
     "name": "stdout",
     "output_type": "stream",
     "text": [
      "Errors on train set: [10.517, 10.391, 9.993, 9.968, 9.955, 9.945, 9.945, 9.929, 9.881, 9.852, 9.812, 9.77, 9.71, 9.672, 9.657, 9.355, 9.293, 9.243, 8.187, 7.869] \n",
      "\n",
      "Errors on test set: [10.644, 10.585, 10.496, 10.63, 10.544, 10.63, 10.647, 10.458, 11.298, 12.3, 10.983, 13.847, 16.807, 10.537, 16.516, 20.589, 21.84, 24.124, 26.652, 28.083]\n"
     ]
    },
    {
     "data": {
      "text/plain": [
       "[<matplotlib.lines.Line2D at 0x9e41ac8>]"
      ]
     },
     "execution_count": 16,
     "metadata": {},
     "output_type": "execute_result"
    },
    {
     "data": {
      "image/png": "[encoded data removed]",
      "text/plain": [
       "<matplotlib.figure.Figure at 0xbe2b438>"
      ]
     },
     "metadata": {},
     "output_type": "display_data"
    }
   ],
   "source": [
    "# Vaš kôd ovdje...\n",
    "x_train, x_test, y_train, y_test = cross_validation.train_test_split(X, y, test_size=0.5)\n",
    "\n",
    "model = LinearRegression()\n",
    "error_train=[]\n",
    "error_test=[]\n",
    "for i in range(1, 21):\n",
    "    poly = PolynomialFeatures(i)\n",
    "    dm_train = poly.fit_transform(x_train)\n",
    "    dm_test = poly.fit_transform(x_test)\n",
    "    \n",
    "    #train set\n",
    "    model.fit(dm_train, y_train)\n",
    "    h_train = model.predict(dm_train)\n",
    "    error_train.append(float(\"%.3f\" % np.log(mean_squared_error(y_train, h_train))))\n",
    "    \n",
    "    # test set\n",
    "    h_test = model.predict(dm_test)\n",
    "    #plot(x_test,h_test)\n",
    "    error_test.append(float(\"%.3f\" %np.log( mean_squared_error(y_test, h_test))))\n",
    "    \n",
    "print \"Errors on train set:\", error_train,\"\\n\"\n",
    "print \"Errors on test set:\", error_test\n",
    "    \n",
    "plot(range(1, 21), error_train)\n",
    "plot(range(1, 21), error_test, color=\"red\")"
   ]
  },
  {
   "cell_type": "markdown",
   "metadata": {},
   "source": [
    "### (c)"
   ]
  },
  {
   "cell_type": "markdown",
   "metadata": {},
   "source": [
    "Točnost modela ovisi o (1) njegovoj složenosti (stupanj $d$ polinoma), (2) broju primjera $N$, i (3) količini šuma. Kako biste to analizirali, nacrtajte grafikone pogrešaka kao u 3b, ali za sve kombinacija broja primjera $N\\in\\{100,200,1000\\}$ i količine šuma $\\sigma\\in\\{100,200,500\\}$ (ukupno 9 grafikona). Upotrijebite funkciju [`subplots`](http://matplotlib.org/examples/pylab_examples/subplots_demo.html) kako biste pregledno posložili grafikone u tablicu $3\\times 3$. Podatci se generiraju na isti način kao u zadatku 2.\n",
    "\n",
    "**NB:** Pobrinite se da svi grafikoni budu generirani nad usporedivim skupovima podataka, na sljedeći način. Generirajte najprije svih 1000 primjera, podijelite ih na skupove za učenje i skupove za ispitivanje (dva skupa od po 500 primjera). Zatim i od skupa za učenje i od skupa za ispitivanje načinite tri različite verzije, svaka s drugačijom količinom šuma (ukupno 2x3=6 verzija podataka). Kako bi simulirali veličinu skupa podataka, od tih dobivenih 6 skupova podataka uzorkujte trećinu, dvije trećine i sve podatke. Time ste dobili 18 skupova podataka -- skup za učenje i za testiranje za svaki od devet grafova."
   ]
  },
  {
   "cell_type": "markdown",
   "metadata": {},
   "source": [
    "***Q:*** Jesu li rezultati očekivani? Obrazložite."
   ]
  },
  {
   "cell_type": "code",
   "execution_count": 17,
   "metadata": {
    "collapsed": false
   },
   "outputs": [
    {
     "data": {
      "image/png": "[encoded data removed]",
      "text/plain": [
       "<matplotlib.figure.Figure at 0xa0dcc88>"
      ]
     },
     "metadata": {},
     "output_type": "display_data"
    }
   ],
   "source": [
    "# Vaš kôd ovdje...\n",
    "noises =[100, 200, 500]\n",
    "noOfExamples = [100, 200, 1000]\n",
    "model = LinearRegression()\n",
    "\n",
    "z, ((ax1, ax2, ax3), (ax4, ax5, ax6), (ax7, ax8, ax9)) = plt.subplots(3, 3, sharex='col', sharey='row')\n",
    "\n",
    "\n",
    "for examples in noOfExamples: \n",
    "    X = uniform(-5,5,examples)\n",
    "    X = sort(X)\n",
    "    X = np.reshape(X,(len(X), 1))\n",
    "    for noise in noises:\n",
    "        err_train=[]\n",
    "        err_test=[]\n",
    "        y = make_labels(X, f, noises)\n",
    "        x_train, x_test, y_train, y_test = cross_validation.train_test_split(X, y, test_size=0.5)\n",
    "        \n",
    "        for i in range(1, 21):\n",
    "            poly = PolynomialFeatures(i)\n",
    "            dm_train = poly.fit_transform(x_train)\n",
    "            dm_test = poly.fit_transform(x_test)\n",
    "    \n",
    "            #train set\n",
    "            model.fit(dm_train, y_train)\n",
    "            h_train = model.predict(dm_train)\n",
    "            err_train.append(float(\"%.3f\" % np.log(mean_squared_error(y_train, h_train))))\n",
    "    \n",
    "            # test set\n",
    "            h_test = model.predict(dm_test)\n",
    "            err_test.append(float(\"%.3f\" %np.log( mean_squared_error(y_test, h_test))))\n",
    "        \n",
    "        if (noise == 100):\n",
    "            if(examples == 100):         \n",
    "                ax1.plot(range(1,21), err_train)\n",
    "                ax1.plot(range(1,21), err_test, color='red')\n",
    "            elif (examples == 200):\n",
    "                ax2.plot(range(1,21), err_train)\n",
    "                ax2.plot(range(1,21), err_test, color='red')\n",
    "            elif (examples == 1000):\n",
    "                ax3.plot(range(1,21), err_train)\n",
    "                ax3.plot(range(1,21), err_test, color='red')\n",
    "        elif (noise == 200):\n",
    "            if(examples == 100):         \n",
    "                ax4.plot(range(1,21), err_train)\n",
    "                ax4.plot(range(1,21), err_test, color='green')\n",
    "            elif (examples == 200):\n",
    "                ax5.plot(range(1,21), err_train)\n",
    "                ax5.plot(range(1,21), err_test, color='green')\n",
    "            elif (examples == 1000):\n",
    "                ax6.plot(range(1,21), err_train)\n",
    "                ax6.plot(range(1,21), err_test, color='green')\n",
    "        else:\n",
    "            if(examples == 100):         \n",
    "                ax7.plot(range(1,21), err_train)\n",
    "                ax7.plot(range(1,21), err_test, color='yellow')\n",
    "            elif (examples == 200):\n",
    "                ax8.plot(range(1,21), err_train)\n",
    "                ax8.plot(range(1,21), err_test, color='yellow')\n",
    "            elif (examples == 1000):\n",
    "                ax9.plot(range(1,21), err_train)\n",
    "                ax9.plot(range(1,21), err_test, color='yellow')     \n",
    "        "
   ]
  },
  {
   "cell_type": "markdown",
   "metadata": {},
   "source": [
    "### 4. Regularizirana regresija"
   ]
  },
  {
   "cell_type": "markdown",
   "metadata": {},
   "source": [
    "### (a)\n",
    "\n",
    "U gornjim eksperimentima nismo koristili **regularizaciju**. Vratimo se najprije na primjer iz zadatka 1. Na primjerima iz tog zadatka izračunajte težine $\\mathbf{w}$ za polinomijalni regresijski model stupnja $d=3$ uz L2-regularizaciju (tzv. *ridge regression*), prema izrazu $\\mathbf{w}=(\\mathbf{\\Phi}^\\intercal\\mathbf{\\Phi}+\\lambda\\mathbf{I})^{-1}\\mathbf{\\Phi}^\\intercal\\mathbf{y}$. Napravite izračun težina za regularizacijske faktore $\\lambda=0$, $\\lambda=1$ i $\\lambda=10$ te usporedite dobivene težine.\n",
    "\n",
    "**Q:** Kojih je dimenzija matrica koju treba invertirati?\n",
    "\n",
    "**Q:** Po čemu se razlikuju dobivene težine i je li ta razlika očekivana? Obrazložite."
   ]
  },
  {
   "cell_type": "code",
   "execution_count": 18,
   "metadata": {
    "collapsed": false
   },
   "outputs": [
    {
     "name": "stdout",
     "output_type": "stream",
     "text": [
      "Weights with lambda = 0:[ 4.         -5.91666667  3.375      -0.45833333]\n",
      "Weights with lambda = 1:[ 1.79567372 -0.24729075 -0.0175289   0.07014758]\n",
      "Weights with lambda = 10:[ 0.43312265  0.11060671  0.13827839  0.03093411]\n"
     ]
    }
   ],
   "source": [
    "# Vaš kôd ovdje...\n",
    "X = np.array([[0],[1],[2],[4]])\n",
    "y = np.array([4,1,2,5])\n",
    "\n",
    "poly = sklearn.preprocessing.PolynomialFeatures(3)\n",
    "dm = poly.fit_transform(X)\n",
    "\n",
    "for lmbd in [0, 1, 10]:\n",
    "    weights = np.dot(np.transpose(dm), dm) + np.multiply(lmbd, np.identity(dm.shape[0]))\n",
    "    weights = linalg.inv(weights)\n",
    "    weights = np.dot(weights, np.transpose(dm))\n",
    "    weights = np.dot(weights, y)\n",
    "    print \"Weights with lambda = \"+str(lmbd)+ \":\" + str(weights)\n"
   ]
  },
  {
   "cell_type": "markdown",
   "metadata": {},
   "source": [
    "### (b)"
   ]
  },
  {
   "cell_type": "markdown",
   "metadata": {},
   "source": [
    "Proučite klasu [`Ridge`](http://scikit-learn.org/stable/modules/generated/sklearn.linear_model.Ridge.html#sklearn.linear_model.Ridge) iz modula [`sklearn.linear_model`](http://scikit-learn.org/stable/modules/classes.html#module-sklearn.linear_model), koja implementira L2-regularizirani regresijski model. Parametar $\\alpha$ odgovara parametru $\\lambda$. Primijenite model na istim primjerima kao u prethodnom zadatku i ispišite težine $\\mathbf{w}$ (atributi `coef_` i `intercept_`).\n",
    "\n",
    "**Q:** Jesu li težine identične onima iz zadatka 4a? Ako nisu, objasnite zašto je to tako i kako biste to popravili."
   ]
  },
  {
   "cell_type": "code",
   "execution_count": 19,
   "metadata": {
    "collapsed": false
   },
   "outputs": [],
   "source": [
    "from sklearn.linear_model import Ridge"
   ]
  },
  {
   "cell_type": "code",
   "execution_count": 20,
   "metadata": {
    "collapsed": false
   },
   "outputs": [
    {
     "name": "stdout",
     "output_type": "stream",
     "text": [
      "Weights with lambda = 0:[ 4.         -5.91666667  3.375      -0.45833333]\n",
      "Weights with lambda = 1:[ 3.05696145 -0.69079365 -0.2831746   0.1445805 ]\n",
      "Weights with lambda = 10:[ 2.49444184 -0.15897295 -0.13423067  0.0815601 ]\n"
     ]
    }
   ],
   "source": [
    "# Vaš kôd ovdje...\n",
    "\n",
    "for lmbd in [0, 1, 10]:\n",
    "    ridge = Ridge(alpha = lmbd)\n",
    "    ridge.fit(dm, y)\n",
    "    print \"Weights with lambda = \"+str(lmbd)+ \":\" + str(np.hstack((ridge.intercept_,ridge.coef_[1:])))"
   ]
  },
  {
   "cell_type": "markdown",
   "metadata": {},
   "source": [
    "### 5. Regularizirana polinomijalna regresija"
   ]
  },
  {
   "cell_type": "markdown",
   "metadata": {},
   "source": [
    "### (a)\n",
    "\n",
    "Vratimo se na slučaj $N=50$ slučajno generiranih primjera iz zadatka 2. Trenirajte modele polinomijalne regresije $\\mathcal{H}_{\\lambda,d}$ za $\\lambda\\in\\{0,100\\}$ i $d\\in\\{2,10\\}$ (ukupno četiri modela). Skicirajte pripadne funkcije $h(\\mathbf{x})$ i primjere (na jednom grafikonu; preporučujemo koristiti `plot` unutar `for` petlje).\n",
    "\n",
    "**Q:** Jesu li rezultati očekivani? Obrazložite."
   ]
  },
  {
   "cell_type": "code",
   "execution_count": 21,
   "metadata": {
    "collapsed": false
   },
   "outputs": [
    {
     "name": "stdout",
     "output_type": "stream",
     "text": [
      "Weights with lambda = 0 and d = 2:\n",
      "[[  0.         -68.20505299   2.93845571]]\n",
      "\n",
      "Weights with lambda = 0 and d = 10:\n",
      "[[  0.00000000e+00  -3.49592074e+01   4.44665392e+01   3.67301184e+01\n",
      "   -1.57599397e+00  -7.27943346e+00  -1.28081160e+00   3.96673702e-01\n",
      "    1.18274699e-01  -6.68232258e-03  -2.72299940e-03]]\n",
      "\n",
      "Weights with lambda = 100 and d = 2:\n",
      "[[  0.         -52.47273478   3.11540922]]\n",
      "\n",
      "Weights with lambda = 100 and d = 10:\n",
      "[[  0.00000000e+00   3.94708568e+00   4.10349717e+00   1.16185134e+01\n",
      "    7.82342226e+00  -3.28557333e+00  -2.17063382e+00   1.68563844e-01\n",
      "    1.56060871e-01  -2.39206753e-03  -3.32203086e-03]]\n",
      "\n"
     ]
    },
    {
     "data": {
      "image/png": "[encoded data removed]",
      "text/plain": [
       "<matplotlib.figure.Figure at 0xbde86d8>"
      ]
     },
     "metadata": {},
     "output_type": "display_data"
    }
   ],
   "source": [
    "# Vaš kôd ovdje...\n",
    "X = uniform(-5,5,50)\n",
    "X = sort(X)\n",
    "X = np.reshape(X,(len(X), 1))\n",
    "y = make_labels(X, f, 200)\n",
    "Hxs = []\n",
    "\n",
    "plt.scatter(X,y)\n",
    "plt.grid()\n",
    "\n",
    "for lmbd in [0, 100]:\n",
    "    for d in [2, 10]:\n",
    "        poly = sklearn.preprocessing.PolynomialFeatures(d)\n",
    "        dm = poly.fit_transform(X)\n",
    "        ridge = Ridge(alpha=lmbd)\n",
    "        ridge.fit(dm, y) \n",
    "        print \"Weights with lambda = \"+str(lmbd)+ \" and d = \" + str(d) + \":\\n\" + str(ridge.coef_) + \"\\n\"\n",
    "        hx = np.dot(ridge.coef_, np.transpose(dm))\n",
    "        Hxs.append(hx)\n",
    "        \n",
    "for hx in Hxs:\n",
    "        plt.plot(X, hx.T)\n"
   ]
  },
  {
   "cell_type": "markdown",
   "metadata": {},
   "source": [
    "### (b)\n",
    "\n",
    "Kao u zadataku 3b, razdvojite primjere na skup za učenje i skup za ispitivanje u omjeru 1:1. Prikažite krivulje logaritama pogreške učenja i ispitne pogreške u ovisnosti za model $\\mathcal{H}_{d=20,\\lambda}$, podešavajući faktor regularizacije $\\lambda$ u rasponu $\\lambda\\in\\{0,1,\\dots,50\\}$.\n",
    "\n",
    "**Q:** Kojoj strani na grafikonu odgovara područje prenaučenosti a kojoj podnaučenosti. Zašto?\n",
    "\n",
    "**Q:** Koju biste vrijednosti za $\\lambda$ izabrali na temelju ovih grafikona i zašto?\n"
   ]
  },
  {
   "cell_type": "code",
   "execution_count": 22,
   "metadata": {
    "collapsed": false,
    "scrolled": true
   },
   "outputs": [
    {
     "name": "stdout",
     "output_type": "stream",
     "text": [
      "Errors on train set: [8.283, 14.053, 9.269, 9.325, 9.361, 9.385, 9.405, 9.425, 9.434, 9.458, 9.465, 9.479, 9.492, 9.496, 9.493, 9.509, 9.521, 9.525, 9.533, 9.538, 9.551, 9.534, 9.559, 9.57, 9.574, 9.569, 9.591, 9.573, 9.585, 9.56, 9.58, 9.593, 9.595, 9.603, 9.609, 9.616, 9.403, 9.619, 9.612, 9.621, 9.609, 9.628, 9.589, 9.625, 9.641, 9.644, 9.615, 9.562, 9.568, 9.637, 9.658] \n",
      "\n",
      "Errors on test set: [47.828, 45.273, 33.737, 31.364, 32.927, 33.517, 33.963, 32.985, 34.22, 33.062, 34.003, 33.531, 33.124, 33.523, 34.653, 33.966, 33.785, 34.236, 33.921, 34.144, 33.712, 35.293, 33.856, 33.602, 33.542, 34.178, 33.25, 34.237, 33.818, 35.519, 34.307, 34.298, 34.228, 34.296, 33.985, 33.743, 37.396, 33.973, 34.32, 34.044, 34.764, 34.213, 35.135, 34.459, 33.895, 33.968, 35.076, 36.477, 35.959, 34.612, 33.665]\n"
     ]
    },
    {
     "data": {
      "text/plain": [
       "[<matplotlib.lines.Line2D at 0xbe2b080>]"
      ]
     },
     "execution_count": 22,
     "metadata": {},
     "output_type": "execute_result"
    },
    {
     "data": {
      "image/png": "[encoded data removed]",
      "text/plain": [
       "<matplotlib.figure.Figure at 0xbfbdf98>"
      ]
     },
     "metadata": {},
     "output_type": "display_data"
    }
   ],
   "source": [
    "# Vaš kôd ovdje...\n",
    "x_train, x_test, y_train, y_test = cross_validation.train_test_split(X, y, test_size=0.5)\n",
    "\n",
    "error_train=[]\n",
    "error_test=[]\n",
    "for i in range(0, 51):\n",
    "    poly = PolynomialFeatures(20)\n",
    "    dm_train = poly.fit_transform(x_train)\n",
    "    dm_test = poly.fit_transform(x_test)\n",
    "    \n",
    "    #train set\n",
    "    ridge = Ridge(alpha=i)\n",
    "    ridge.fit(dm_train, y_train)\n",
    "    h_train = ridge.predict(dm_train)\n",
    "    error_train.append(float(\"%.3f\" % np.log(mean_squared_error(y_train, h_train))))\n",
    "    \n",
    "    # test set\n",
    "    h_test = ridge.predict(dm_test)\n",
    "    error_test.append(float(\"%.3f\" %np.log( mean_squared_error(y_test, h_test))))\n",
    "    \n",
    "print \"Errors on train set:\", error_train,\"\\n\"\n",
    "print \"Errors on test set:\", error_test\n",
    "    \n",
    "plot(range(0, 51), np.log(error_train))\n",
    "plot(range(0, 51), np.log(error_test), color=\"red\")"
   ]
  },
  {
   "cell_type": "markdown",
   "metadata": {},
   "source": [
    "### 6. L1-regularizacija i L2-regularizacija"
   ]
  },
  {
   "cell_type": "markdown",
   "metadata": {},
   "source": [
    "Svrha regularizacije jest potiskivanje težina modela $\\mathbf{w}$ prema nuli, kako bi model bio što jednostavniji. Složenost modela može se okarakterizirati normom pripadnog vektora težina $\\mathbf{w}$, i to tipično L2-normom ili L1-normom. Za jednom trenirani model možemo izračunati i broj ne-nul značajki, ili L0-normu, pomoću sljedeće funkcije:"
   ]
  },
  {
   "cell_type": "code",
   "execution_count": 23,
   "metadata": {
    "collapsed": false
   },
   "outputs": [],
   "source": [
    "def nonzeroes(coef, tol=1e-6): \n",
    "    return len(coef) - len(coef[sp.isclose(0, coef, atol=tol)])"
   ]
  },
  {
   "cell_type": "markdown",
   "metadata": {},
   "source": [
    "### (a)\n",
    "\n",
    "Za ovaj zadatak upotrijebite skup za učenje i skup za testiranje iz zadatka 3b. Trenirajte modele **L2-regularizirane** polinomijalne regresije stupnja $d=20$, mijenjajući hiperparametar $\\lambda$ u rasponu $\\{1,2,\\dots,100\\}$. Za svaki od treniranih modela izračunajte L{0,1,2}-norme vektora težina $\\mathbf{w}$ te ih prikažite kao funkciju od $\\lambda$.\n",
    "\n",
    "**Q:** Objasnite oblik obiju krivulja. Hoće li krivulja za $\\|\\mathbf{w}\\|_2$ doseći nulu? Zašto? Je li to problem? Zašto?\n",
    "\n",
    "**Q:** Za $\\lambda=100$, koliki je postotak težina modela jednak nuli, odnosno koliko je model rijedak?"
   ]
  },
  {
   "cell_type": "code",
   "execution_count": 24,
   "metadata": {
    "collapsed": false,
    "scrolled": true
   },
   "outputs": [
    {
     "data": {
      "text/plain": [
       "[<matplotlib.lines.Line2D at 0xeab2be0>]"
      ]
     },
     "execution_count": 24,
     "metadata": {},
     "output_type": "execute_result"
    },
    {
     "data": {
      "image/png": "[encoded data removed]",
      "text/plain": [
       "<matplotlib.figure.Figure at 0xcb8a5f8>"
      ]
     },
     "metadata": {},
     "output_type": "display_data"
    }
   ],
   "source": [
    "# Vaš kôd ovdje...\n",
    "X_train, X_test, y_train, y_test = cross_validation.train_test_split(X, y, test_size=0.5)\n",
    "axes = plt.gca()\n",
    "axes.set_xlim([0,101])\n",
    "axes.set_ylim([0,2001])\n",
    "\n",
    "lambdas = range(1,101)\n",
    "\n",
    "norms0 = [];\n",
    "norms1 = [];\n",
    "norms2 = [];\n",
    "\n",
    "for lmbd in lambdas:\n",
    "    ridge = Ridge(lmbd, fit_intercept=False);\n",
    "    dm = PolynomialFeatures(20).fit_transform(X_train);\n",
    "    ridge.fit(dm, y_train);\n",
    "    \n",
    "    norms0.append(nonzeroes(ridge.coef_[0]));\n",
    "    norms1.append(np.sum(np.absolute(ridge.coef_)));\n",
    "    norms2.append(np.sum(np.square(ridge.coef_)));\n",
    "    \n",
    "plt.plot(lambdas, norms0, color='chartreuse', linewidth=2.0)\n",
    "plt.plot(lambdas, norms1, color='red', linewidth=2.0)\n",
    "plt.plot(lambdas, norms2, color='blue', linewidth=2.0)\n"
   ]
  },
  {
   "cell_type": "markdown",
   "metadata": {},
   "source": [
    "### (b)"
   ]
  },
  {
   "cell_type": "markdown",
   "metadata": {},
   "source": [
    "Glavna prednost L1-regularizirane regresije (ili *LASSO regression*) nad L2-regulariziranom regresijom jest u tome što L1-regularizirana regresija rezultira **rijetkim modelima** (engl. *sparse models*), odnosno modelima kod kojih su mnoge težine pritegnute na nulu. Pokažite da je to doista tako, ponovivši gornji eksperiment s **L1-regulariziranom** regresijom, implementiranom u klasi  [`Lasso`](http://scikit-learn.org/stable/modules/generated/sklearn.linear_model.Lasso.html) u modulu [`sklearn.linear_model`](http://scikit-learn.org/stable/modules/classes.html#module-sklearn.linear_model)."
   ]
  },
  {
   "cell_type": "code",
   "execution_count": 25,
   "metadata": {
    "collapsed": false,
    "scrolled": true
   },
   "outputs": [
    {
     "name": "stderr",
     "output_type": "stream",
     "text": [
      "C:\\Users\\dreyus95\\Anaconda2\\lib\\site-packages\\sklearn\\linear_model\\coordinate_descent.py:484: ConvergenceWarning: Objective did not converge. You might want to increase the number of iterations. Fitting data with very small alpha may cause precision problems.\n",
      "  ConvergenceWarning)\n"
     ]
    },
    {
     "data": {
      "text/plain": [
       "[<matplotlib.lines.Line2D at 0xed0f160>]"
      ]
     },
     "execution_count": 25,
     "metadata": {},
     "output_type": "execute_result"
    },
    {
     "data": {
      "image/png": "[encoded data removed]",
      "text/plain": [
       "<matplotlib.figure.Figure at 0xa0664a8>"
      ]
     },
     "metadata": {},
     "output_type": "display_data"
    }
   ],
   "source": [
    "# Vaš kôd ovdje...\n",
    "from sklearn.linear_model import Lasso\n",
    "\n",
    "axes = plt.gca()\n",
    "axes.set_xlim([0,101])\n",
    "axes.set_ylim([0,2001])\n",
    "\n",
    "lambdas = range(1, 101)\n",
    "norms0 = []\n",
    "norms1 = []\n",
    "norms2 = []\n",
    "\n",
    "for lmbd in lambdas:\n",
    "    lasso = Lasso(lmbd, fit_intercept=False)\n",
    "    dm = PolynomialFeatures(20).fit_transform(X_train)\n",
    "    lasso.fit(dm, y_train)\n",
    "    \n",
    "    norms0.append(nonzeroes(lasso.coef_))\n",
    "    norms1.append(np.sum(np.absolute(lasso.coef_)))\n",
    "    norms2.append(np.sum(np.square(lasso.coef_)))\n",
    "    \n",
    "plt.plot(lambdas, norms0, color='chartreuse', linewidth=2.0)\n",
    "plt.plot(lambdas, norms1, color='red', linewidth=2.0)\n",
    "plt.plot(lambdas, norms2, color='blue', linewidth=2.0)"
   ]
  },
  {
   "cell_type": "markdown",
   "metadata": {},
   "source": [
    "### 7. Predviđanje cijena nekretnina u Bostonu"
   ]
  },
  {
   "cell_type": "markdown",
   "metadata": {},
   "source": [
    "Do sada smo razmatrali isključivo univarijatnu regresiju, tj. imali smo samo jednu značajku ($n=1$). U većini stvarnih problema baratamo s većim brojem značajki. Razmotrimo sada jedan nešto realniji problem, kod kojega postoji više značajki, pa je potrebno napraviti multivarijatnu regresiju.\n",
    "\n",
    "Učitajte skup podataka *Boston House Prices*:"
   ]
  },
  {
   "cell_type": "code",
   "execution_count": 26,
   "metadata": {
    "collapsed": false
   },
   "outputs": [
    {
     "name": "stdout",
     "output_type": "stream",
     "text": [
      "(506L, 13L)\n",
      "(506L,)\n"
     ]
    }
   ],
   "source": [
    "from sklearn.datasets import load_boston\n",
    "boston = load_boston()\n",
    "print boston.data.shape\n",
    "print boston.target.shape"
   ]
  },
  {
   "cell_type": "markdown",
   "metadata": {},
   "source": [
    "Skup sadrži 506 primjera sa 13 numeričkih značajki. Opis skupa možete dobiti na sljedeći način:"
   ]
  },
  {
   "cell_type": "code",
   "execution_count": 27,
   "metadata": {
    "collapsed": false
   },
   "outputs": [
    {
     "name": "stdout",
     "output_type": "stream",
     "text": [
      "Boston House Prices dataset\n",
      "===========================\n",
      "\n",
      "Notes\n",
      "------\n",
      "Data Set Characteristics:  \n",
      "\n",
      "    :Number of Instances: 506 \n",
      "\n",
      "    :Number of Attributes: 13 numeric/categorical predictive\n",
      "    \n",
      "    :Median Value (attribute 14) is usually the target\n",
      "\n",
      "    :Attribute Information (in order):\n",
      "        - CRIM     per capita crime rate by town\n",
      "        - ZN       proportion of residential land zoned for lots over 25,000 sq.ft.\n",
      "        - INDUS    proportion of non-retail business acres per town\n",
      "        - CHAS     Charles River dummy variable (= 1 if tract bounds river; 0 otherwise)\n",
      "        - NOX      nitric oxides concentration (parts per 10 million)\n",
      "        - RM       average number of rooms per dwelling\n",
      "        - AGE      proportion of owner-occupied units built prior to 1940\n",
      "        - DIS      weighted distances to five Boston employment centres\n",
      "        - RAD      index of accessibility to radial highways\n",
      "        - TAX      full-value property-tax rate per $10,000\n",
      "        - PTRATIO  pupil-teacher ratio by town\n",
      "        - B        1000(Bk - 0.63)^2 where Bk is the proportion of blacks by town\n",
      "        - LSTAT    % lower status of the population\n",
      "        - MEDV     Median value of owner-occupied homes in $1000's\n",
      "\n",
      "    :Missing Attribute Values: None\n",
      "\n",
      "    :Creator: Harrison, D. and Rubinfeld, D.L.\n",
      "\n",
      "This is a copy of UCI ML housing dataset.\n",
      "http://archive.ics.uci.edu/ml/datasets/Housing\n",
      "\n",
      "\n",
      "This dataset was taken from the StatLib library which is maintained at Carnegie Mellon University.\n",
      "\n",
      "The Boston house-price data of Harrison, D. and Rubinfeld, D.L. 'Hedonic\n",
      "prices and the demand for clean air', J. Environ. Economics & Management,\n",
      "vol.5, 81-102, 1978.   Used in Belsley, Kuh & Welsch, 'Regression diagnostics\n",
      "...', Wiley, 1980.   N.B. Various transformations are used in the table on\n",
      "pages 244-261 of the latter.\n",
      "\n",
      "The Boston house-price data has been used in many machine learning papers that address regression\n",
      "problems.   \n",
      "     \n",
      "**References**\n",
      "\n",
      "   - Belsley, Kuh & Welsch, 'Regression diagnostics: Identifying Influential Data and Sources of Collinearity', Wiley, 1980. 244-261.\n",
      "   - Quinlan,R. (1993). Combining Instance-Based and Model-Based Learning. In Proceedings on the Tenth International Conference of Machine Learning, 236-243, University of Massachusetts, Amherst. Morgan Kaufmann.\n",
      "   - many more! (see http://archive.ics.uci.edu/ml/datasets/Housing)\n",
      "\n"
     ]
    }
   ],
   "source": [
    "print boston.DESCR"
   ]
  },
  {
   "cell_type": "markdown",
   "metadata": {},
   "source": [
    "### (a)"
   ]
  },
  {
   "cell_type": "markdown",
   "metadata": {},
   "source": [
    "Vaš je zadatak da izgradite regresijski model za predviđanje cijene nekretnine (`y=boston.target`) na temelju 13 raspoloživih značajki za svaku nekretninu (`X=boston.data`). Cilj je pronaći najbolji mogući linearni model regresije na ovom skupu podataka i provjeriti njegovu točnost u smislu pogreške kvadratnog odstupanja ([`mean_squared_error`]( http://scikit-learn.org/stable/modules/generated/sklearn.metrics.mean_squared_error.html#sklearn.metrics.mean_squared_error)). \n",
    "\n",
    "Hiperparametri modela koje treba isprobati su:\n",
    "\n",
    "* **Regularizacija:** Bez regularizacije ([`LinearRegression`](http://scikit-learn.org/stable/modules/generated/sklearn.linear_model.LinearRegression.html#sklearn.linear_model.LinearRegression)), L2-regularizacija ([`Ridge`](http://scikit-learn.org/stable/modules/generated/sklearn.linear_model.Ridge.html#sklearn.linear_model.Ridge)) i L1-regularizacija ([`Lasso`](http://scikit-learn.org/stable/modules/generated/sklearn.linear_model.Lasso.html#sklearn.linear_model.Lasso));\n",
    "* **Značajke:** Izvornih 13 značajki, polinomijalne značajke (isprobajte različite stupnjeve polinoma $d$), samo interakcijske značajke (opcija `interaction_only` u klasi [`PolynomialFeatures`](http://scikit-learn.org/stable/modules/generated/sklearn.preprocessing.PolynomialFeatures.html));\n",
    "\n",
    "Kao i inače, za odabir i ispitivanje modela koristit ćemo **unakrsnu provjeru** (engl. *cross-validation*). Skup primjera za učenje podijelit ćemo na **skup za učenje**, **skup za provjeru** i **skup za ispitivanje** u omjeru (otprilike) 3:1:1. Kao u uvijek, model trebate trenirati na skupu za učenje, odabir modela (odnosno optimizaciju hiperparametra) trebate provesti na skupu za provjeru, a konačno vrednovanje modela trebate načiniti na skupu za ispitivanje. Konačno vrednovanje radite samo jednom, za model koji ste na skupu za provjeru odabrali kao optimalan.\n",
    "\n",
    "**NB:** Nakon što odaberete optimalan model na skupu za provjeru, prije konačnog ispitivanja odabrani model ponovno trenirajte na uniji skupova za učenje i provjeru. Na taj način iskorištavate maksimalno iskorištavate dostupne podatke i model će u pravilu biti bolji.\n",
    "\n",
    "Podjela na skup za učenje, provjeru i ispitivanje u ovom je slučaju fiksna kako bi svi imali identične skupove i kako bi rezultati bili usporedivi. (U stvarnosti biste ovakav eksperiment radili malo drugačije: koristili biste višestruku unakrsnu provjeru ili ugnježđenu unakrsnu provjeru. Više o tome u budućim vježbama.) \n",
    "\n",
    "Koristite sljedeće skupove:"
   ]
  },
  {
   "cell_type": "code",
   "execution_count": 28,
   "metadata": {
    "collapsed": false
   },
   "outputs": [
    {
     "name": "stdout",
     "output_type": "stream",
     "text": [
      "(303L, 13L) (101L, 13L) (102L, 13L)\n"
     ]
    }
   ],
   "source": [
    "from sklearn import cross_validation\n",
    "X_train, X_rest, y_train, y_rest = cross_validation.train_test_split(boston.data,boston.target,train_size=0.6,random_state=42)\n",
    "X_validate, X_test, y_validate, y_test = cross_validation.train_test_split(X_rest,y_rest,test_size=0.5,random_state=42)\n",
    "print X_train.shape, X_validate.shape ,X_test.shape"
   ]
  },
  {
   "cell_type": "code",
   "execution_count": 29,
   "metadata": {
    "collapsed": false
   },
   "outputs": [
    {
     "name": "stdout",
     "output_type": "stream",
     "text": [
      "Best alpha:  91\n",
      "Least error with Lasso: 15.209\n"
     ]
    }
   ],
   "source": [
    "# Vaše rješenje...\n",
    "linear = LinearRegression()\n",
    "linear.fit(X_train, y_train)\n",
    "hx = dot(linear.coef_, transpose(X_train))\n",
    "err_train = sklearn.metrics.mean_squared_error(y_train, transpose(hx))\n",
    "hx = dot(linear.coef_, transpose(X_validate))\n",
    "err_val = sklearn.metrics.mean_squared_error(y_validate, transpose(hx))\n",
    "\n",
    "best_err_val = err_val\n",
    "best_alpha = 0\n",
    "best_hx = None\n",
    "best_choice = 0\n",
    "d = 3\n",
    "alphaRange = range(1,101)\n",
    "\n",
    "for i in alphaRange:\n",
    "    ridge = Ridge(alpha=i)\n",
    "    poly = sklearn.preprocessing.PolynomialFeatures(d, interaction_only=True)\n",
    "    dm_train = poly.fit_transform(X_train)\n",
    "    dm_validate = poly.fit_transform(X_validate)\n",
    "    ridge.fit(dm_train, y_train)\n",
    "    h_val = ridge.predict(dm_validate)\n",
    "    err_val = sklearn.metrics.mean_squared_error(y_validate, transpose(h_val))\n",
    "    if(err_val < best_err_val):\n",
    "        best_err_val = err_val\n",
    "        best_alpha = i\n",
    "        best_choice = 1\n",
    "        best_hx = h_val\n",
    "      \n",
    "for i in alphaRange:\n",
    "    lasso = Lasso(alpha=i)\n",
    "    poly = sklearn.preprocessing.PolynomialFeatures(d, interaction_only=True)\n",
    "    dm_train = poly.fit_transform(X_train)\n",
    "    dm_validate = poly.fit_transform(X_validate)\n",
    "    lasso.fit(dm_train, y_train)\n",
    "    h_val = lasso.predict(dm_validate)\n",
    "    err_val = sklearn.metrics.mean_squared_error(y_validate, transpose(h_val))\n",
    "    if(err_val < best_err_val):\n",
    "        best_err_val = err_val\n",
    "        best_alpha = i\n",
    "        best_choice = 2\n",
    "        best_hx = h_val\n",
    "\n",
    "print \"Best alpha: \",best_alpha\n",
    "poly = sklearn.preprocessing.PolynomialFeatures(d, interaction_only=True)\n",
    "if(best_choice == 1):\n",
    "    ridge = Ridge(alpha=best_alpha)\n",
    "    dm_union = poly.fit_transform(np.array(list(X_train)+list(X_validate)))\n",
    "    dm_test = poly.fit_transform(X_test)\n",
    "    ridge.fit(dm_union,(np.array(list(y_train)+list(y_validate))))\n",
    "    h_union = ridge.predict(dm_union)\n",
    "    #print h_union\n",
    "    h_test = ridge.predict(dm_test)\n",
    "    error_test = float(\"%.3f\" % ( mean_squared_error(y_test, h_test)))\n",
    "    print \"Least error with Ridge: \" + str(error_test)\n",
    "elif(best_choice == 2):\n",
    "    lasso = Lasso(alpha=best_alpha)\n",
    "    dm_union = poly.fit_transform(np.array(list(X_train)+list(X_validate)))\n",
    "    dm_test = poly.fit_transform(X_test)\n",
    "    lasso.fit(dm_union,(np.array(list(y_train)+list(y_validate))))\n",
    "    h_union = lasso.predict(dm_union)\n",
    "    #print h_union\n",
    "    h_test = lasso.predict(dm_test)\n",
    "    error_test = float(\"%.3f\" % ( mean_squared_error(y_test, h_test)))\n",
    "    print \"Least error with Lasso: \" + str(error_test)"
   ]
  },
  {
   "cell_type": "markdown",
   "metadata": {},
   "source": [
    "**Q:** Koliko značajki ima svaki od modela koji ste isprobali?\n",
    "\n",
    "**Q:** Provjerite točnost odabranog modela na (1) skupu za učenje, (2) skupu za provjeru, (3) uniji ta dva skupa i (4) skupu za ispitivanje. Jesu li odnosi između točnosti modela na ova četiri skupa očekivana? Obrazložite.\n",
    "\n",
    "**Q:** Kod treniranja regresijskog modela moguće je postaviti `fit_intercept=False`, čime se izbjegava optimiranje težine $w_0$. Trenirajte odabrani model s tom postavkom. Usporedite s točnošću optimalnog modela. Je li rezultat očekivan? Obrazložite. Ima li predobrada značajki ikakvog utjecaja na ovu razliku?"
   ]
  }
 ],
 "metadata": {
  "anaconda-cloud": {},
  "kernelspec": {
   "display_name": "Python 2",
   "language": "python",
   "name": "python2"
  },
  "language_info": {
   "codemirror_mode": {
    "name": "ipython",
    "version": 2
   },
   "file_extension": ".py",
   "mimetype": "text/x-python",
   "name": "python",
   "nbconvert_exporter": "python",
   "pygments_lexer": "ipython2",
   "version": "2.7.13"
  }
 },
 "nbformat": 4,
 "nbformat_minor": 0
}
