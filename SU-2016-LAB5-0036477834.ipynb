{
 "cells": [
  {
   "cell_type": "markdown",
   "metadata": {},
   "source": [
    "Sveučilište u Zagrebu<br>\n",
    "Fakultet elektrotehnike i računarstva\n",
    "\n",
    "## Strojno učenje 2016./2017.\n",
    "\n",
    "<a href=\"http://www.fer.unizg.hr/predmet/su\">http://www.fer.unizg.hr/predmet/su</a>"
   ]
  },
  {
   "cell_type": "markdown",
   "metadata": {},
   "source": [
    "### Laboratorijska vježba 5: Bayesove mreže i naivni Bayesov klasifikator\n",
    "\n",
    "(c) 2015-2016 Jan Šnajder, Domagoj Alagić\n",
    "\n",
    "<i>Verzija: 0.1</i> <br/>\n",
    "<i>Zadnji put ažurirano: 27. prosinca 2016.</i> "
   ]
  },
  {
   "cell_type": "markdown",
   "metadata": {},
   "source": [
    "Objavljeno: **27. prosinca 2016.**<br>\n",
    "Rok za predaju: U terminu vježbe u tjednu od **2. siječnja 2017.**"
   ]
  },
  {
   "cell_type": "markdown",
   "metadata": {},
   "source": [
    "### Upute\n",
    "\n",
    "Peta laboratorijska vježba sastoji se od tri zadatka. Kako bi kvalitetnije, ali i na manje zamoran način usvojili gradivo ovog kolegija, potrudili smo se uključiti tri vrste zadataka: **1)** implementacija manjih algoritama, modela ili postupaka; **2)** eksperimenti s raznim modelima te njihovim hiperparametrima, te **3)** primjena modela na (stvarnim) podatcima. Ovim zadatcima pokrivamo dvije paradigme učenja: učenje izgradnjom (engl. *learning by building*) i učenje eksperimentiranjem (engl. *learning by experimenting*).\n",
    "\n",
    "U nastavku slijedite upute navedene u ćelijama s tekstom. Rješavanje vježbe svodi se na **dopunjavanje ove bilježnice**: umetanja ćelije ili više njih **ispod** teksta zadatka, pisanja odgovarajućeg kôda te evaluiranja ćelija. \n",
    "\n",
    "Osigurajte da u potpunosti **razumijete** kôd koji ste napisali. Kod predaje vježbe, morate biti u stanju na zahtjev asistenta (ili demonstratora) preinačiti i ponovno evaluirati Vaš kôd. Nadalje, morate razumjeti teorijske osnove onoga što radite, u okvirima onoga što smo obradili na predavanju. Ispod nekih zadataka možete naći i pitanja koja služe kao smjernice za bolje razumijevanje gradiva (**nemojte pisati** odgovore na pitanja u bilježnicu). Stoga se nemojte ograničiti samo na to da riješite zadatak, nego slobodno eksperimentirajte. To upravo i jest svrha ovih vježbi.\n",
    "\n",
    "Vježbe trebate raditi **samostalno**. Možete se konzultirati s drugima o načelnom načinu rješavanja, ali u konačnici morate sami odraditi vježbu. U protivnome vježba nema smisla."
   ]
  },
  {
   "cell_type": "code",
   "execution_count": 1,
   "metadata": {
    "collapsed": false
   },
   "outputs": [
    {
     "name": "stdout",
     "output_type": "stream",
     "text": [
      "Populating the interactive namespace from numpy and matplotlib\n"
     ]
    }
   ],
   "source": [
    "import numpy as np\n",
    "import pandas as pd\n",
    "import scipy as sp\n",
    "import matplotlib.pyplot as plt\n",
    "%pylab inline\n",
    "%load_ext autoreload\n",
    "%autoreload 2"
   ]
  },
  {
   "cell_type": "markdown",
   "metadata": {},
   "source": [
    "### 1. Bayesove mreže"
   ]
  },
  {
   "cell_type": "markdown",
   "metadata": {},
   "source": [
    "Ovaj zadatak bavit će se Bayesovim mrežama, jednim od poznatijih probabilističkih grafičkih modela (*probabilistic graphical models*; PGM). Za lakše eksperimentiranje koristit ćemo programski paket [pgmpy](https://github.com/pgmpy/pgmpy). Molimo Vas da provjerite imate li ovaj paket te da ga instalirate ako ga nemate."
   ]
  },
  {
   "cell_type": "markdown",
   "metadata": {},
   "source": [
    "#### (a)\n",
    "\n",
    "Prvo ćemo pogledati udžbenički primjer s prskalicom. U ovom primjeru razmatramo Bayesovu mrežu koja modelira zavisnosti između oblačnosti (sl. varijabla $C$), kiše ($R$), prskalice ($S$) i mokre trave ($W$). U ovom primjeru također pretpostavljamo da već imamo parametre vjerojatnosnih distribucija svih čvorova. Sve varijable modelirane su Bernoullijevom razdiobom."
   ]
  },
  {
   "cell_type": "markdown",
   "metadata": {},
   "source": [
    "![This](bayes-net-sprinkler.jpg)"
   ]
  },
  {
   "cell_type": "markdown",
   "metadata": {},
   "source": [
    "Koristeći paket [pgmpy](https://github.com/pgmpy/pgmpy), konstruirajte Bayesovu mrežu iz gornjeg primjera. Zatim provedite **egzaktno** zaključivanje za sljedeće upite: $P(w=1)$, $P(s=1|w=1)$, $P(r=1|w=1)$, $P(c=1|s=1, r=1)$ i $P(c=1)$. Provedite zaključivanje na papiru i uvjerite se da ste ispravno konstruirali mrežu.\n",
    "\n",
    "**NB:** Bacite oko na službenu demonstraciju danu na https://github.com/pgmpy/pgmpy/blob/dev/examples/Monte%20Hall%20Problem.ipynb."
   ]
  },
  {
   "cell_type": "code",
   "execution_count": 2,
   "metadata": {
    "collapsed": false
   },
   "outputs": [],
   "source": [
    "import sys\n",
    "sys.path.append(\"C:\\putanja\\do\\pgmpy\")\n",
    "from pgmpy.models import BayesianModel, NaiveBayes\n",
    "from pgmpy.factors.discrete.CPD import TabularCPD\n",
    "from pgmpy.inference import VariableElimination"
   ]
  },
  {
   "cell_type": "code",
   "execution_count": 3,
   "metadata": {
    "collapsed": false
   },
   "outputs": [
    {
     "name": "stdout",
     "output_type": "stream",
     "text": [
      "+-----+-----+\n",
      "| C_0 | 0.5 |\n",
      "+-----+-----+\n",
      "| C_1 | 0.5 |\n",
      "+-----+-----+\n",
      "+-----+-----+-----+\n",
      "| C   | C_0 | C_1 |\n",
      "+-----+-----+-----+\n",
      "| S_0 | 0.1 | 0.5 |\n",
      "+-----+-----+-----+\n",
      "| S_1 | 0.9 | 0.5 |\n",
      "+-----+-----+-----+\n",
      "+-----+-----+-----+\n",
      "| C   | C_0 | C_1 |\n",
      "+-----+-----+-----+\n",
      "| R_0 | 0.8 | 0.2 |\n",
      "+-----+-----+-----+\n",
      "| R_1 | 0.2 | 0.8 |\n",
      "+-----+-----+-----+\n",
      "+-----+------+-----+-----+-----+\n",
      "| S   | S_0  | S_0 | S_1 | S_1 |\n",
      "+-----+------+-----+-----+-----+\n",
      "| R   | R_0  | R_1 | R_0 | R_1 |\n",
      "+-----+------+-----+-----+-----+\n",
      "| W_0 | 0.99 | 0.9 | 0.9 | 0.0 |\n",
      "+-----+------+-----+-----+-----+\n",
      "| W_1 | 0.01 | 0.1 | 0.1 | 1.0 |\n",
      "+-----+------+-----+-----+-----+ \n",
      "\n",
      "\n",
      "P(w=1) \n",
      "+-----+----------+\n",
      "| W   |   phi(W) |\n",
      "|-----+----------|\n",
      "| W_0 |   0.6471 |\n",
      "| W_1 |   0.3529 |\n",
      "+-----+----------+\n",
      "\n",
      "P(s=1|w=1) \n",
      "+-----+----------+\n",
      "| S   |   phi(S) |\n",
      "|-----+----------|\n",
      "| S_0 |   0.4298 |\n",
      "| S_1 |   0.5702 |\n",
      "+-----+----------+\n",
      "\n",
      "P(r=1|w=1) \n",
      "+-----+----------+\n",
      "| R   |   phi(R) |\n",
      "|-----+----------|\n",
      "| R_0 |   0.7079 |\n",
      "| R_1 |   0.2921 |\n",
      "+-----+----------+\n",
      "\n",
      "P(c=1|s=1,r=1) \n",
      "+-----+----------+\n",
      "| C   |   phi(C) |\n",
      "|-----+----------|\n",
      "| C_0 |   0.4444 |\n",
      "| C_1 |   0.5556 |\n",
      "+-----+----------+\n",
      "\n",
      "P(c=1) \n",
      "+-----+----------+\n",
      "| C   |   phi(C) |\n",
      "|-----+----------|\n",
      "| C_0 |   0.5000 |\n",
      "| C_1 |   0.5000 |\n",
      "+-----+----------+\n"
     ]
    }
   ],
   "source": [
    "# Vaš kôd ovdje...\n",
    "model = BayesianModel([('C', 'S'), ('C', 'R'), ('S', 'W'), ('R', 'W')])\n",
    "\n",
    "cpd_c = TabularCPD('C', 2, [[0.5, 0.5]])\n",
    "print cpd_c\n",
    "\n",
    "cpd_s = TabularCPD('S', 2, [[0.1, 0.5], [0.9, 0.5]], evidence=['C'], evidence_card=[2])\n",
    "print cpd_s\n",
    "\n",
    "cpd_r = TabularCPD('R', 2, [[0.8, 0.2], [0.2, 0.8]], evidence=['C'], evidence_card=[2])\n",
    "print cpd_r\n",
    "\n",
    "cpd_w = TabularCPD('W', 2, [[0.99, 0.9, 0.9, 0.0], [0.01, 0.1, 0.1, 1.0]], evidence=['S','R'], evidence_card=[2,2])\n",
    "print cpd_w,\"\\n\\n\"\n",
    "\n",
    "# Associating the CPDs with the network structure.\n",
    "model.add_cpds(cpd_c, cpd_s, cpd_r, cpd_w)\n",
    "model.check_model()\n",
    "\n",
    "infer = VariableElimination(model)\n",
    "\n",
    "posterior_p = infer.query(['W'])\n",
    "print \"P(w=1) \"\n",
    "print(posterior_p['W'])\n",
    "\n",
    "posterior_p = infer.query(['S'], evidence={'W': 0})\n",
    "print \"\\nP(s=1|w=1) \"\n",
    "print(posterior_p['S'])\n",
    "\n",
    "posterior_p = infer.query(['R'], evidence={'W': 0})\n",
    "print \"\\nP(r=1|w=1) \"\n",
    "print(posterior_p['R'])\n",
    "\n",
    "posterior_p = infer.query(['C'], evidence={'S': 0, 'R': 0})\n",
    "print \"\\nP(c=1|s=1,r=1) \"\n",
    "print(posterior_p['C'])\n",
    "\n",
    "posterior_p = infer.query(['C'])\n",
    "print \"\\nP(c=1) \"\n",
    "print(posterior_p['C'])"
   ]
  },
  {
   "cell_type": "markdown",
   "metadata": {},
   "source": [
    "**Q:** Koju zajedničku vjerojatnosnu razdiobu ova mreža modelira? Kako tu informaciju očitati iz mreže? <br>\n",
    "**Q:** U zadatku koristimo egzaktno zaključivanje. Kako ono radi? <br>\n",
    "**Q:** Ako je trava mokra ($w=1$), što je prema mreži vjerojatnije -- da je pala kiša ($r=1$) ili da je netko upalio prskalicu ($s=1$)? <br>\n",
    "**Q:** Zašto je vjerojatnost $P(c=1)$ drugačija od $P(c=1|s=1,r=1)$ ako znamo da čvorovi $S$ i $R$ nisu roditelji čvora $C$?"
   ]
  },
  {
   "cell_type": "markdown",
   "metadata": {},
   "source": [
    "#### (b)\n",
    "\n",
    "**Efekt objašnjavanja** (engl. *explaining away*) zanimljiv je fenomen u kojem se događa da se dvije varijable \"natječu\" za objašnjavanje treće. S obzirom na to da i prva i druga varijabla mogu samostalno objasniti treću, ono što se događa jest to da, ako znamo da se ostvarila treća varijabla, naše vjerovanje o prvoj varijabli mijenja ovisno o tome je li se ili nije dogodila druga varijabla (i obrnuto).\n",
    "\n",
    "Ovaj fenomen može se primijetiti na gornjoj mreži. U tom se slučaju varijable prskalice ($S$) i kiše ($R$) \"natječu\" za objašnjavanje mokre trave ($W$). Vaš zadatak je pokazati da se fenomen zaista događa."
   ]
  },
  {
   "cell_type": "code",
   "execution_count": 4,
   "metadata": {
    "collapsed": false
   },
   "outputs": [
    {
     "name": "stdout",
     "output_type": "stream",
     "text": [
      "P(r=1|w=1) \n",
      "+-----+----------+\n",
      "| R   |   phi(R) |\n",
      "|-----+----------|\n",
      "| R_0 |   0.7079 |\n",
      "| R_1 |   0.2921 |\n",
      "+-----+----------+\n",
      "\n",
      "P(r=1|w=1,s=1) \n",
      "+-----+----------+\n",
      "| R   |   phi(R) |\n",
      "|-----+----------|\n",
      "| R_0 |   0.3204 |\n",
      "| R_1 |   0.6796 |\n",
      "+-----+----------+\n",
      "\n",
      "P(r=1|w=1,s=0) \n",
      "+-----+----------+\n",
      "| R   |   phi(R) |\n",
      "|-----+----------|\n",
      "| R_0 |   1.0000 |\n",
      "| R_1 |   0.0000 |\n",
      "+-----+----------+\n"
     ]
    }
   ],
   "source": [
    "# Vaš kôd ovdje...\n",
    "posterior_p = infer.query(['R'], evidence={'W': 0})\n",
    "print \"P(r=1|w=1) \"\n",
    "print(posterior_p['R'])\n",
    "\n",
    "posterior_p = infer.query(['R'], evidence={'W': 0, 'S': 0})\n",
    "print \"\\nP(r=1|w=1,s=1) \"\n",
    "print(posterior_p['R'])\n",
    "\n",
    "posterior_p = infer.query(['R'], evidence={'W': 0, 'S': 1})\n",
    "print \"\\nP(r=1|w=1,s=0) \"\n",
    "print(posterior_p['R'])"
   ]
  },
  {
   "cell_type": "markdown",
   "metadata": {},
   "source": [
    "**Q:** Kako biste svojim riječima opisali ovaj fenomen, koristeći se ovim primjerom?"
   ]
  },
  {
   "cell_type": "markdown",
   "metadata": {},
   "source": [
    "#### (c) \n",
    "\n",
    "Koristeći [`BayesianModel.is_active_trail`](http://pgmpy.org/models.html#pgmpy.models.BayesianModel.BayesianModel.is_active_trail) provjerite jesu li varijable oblačnosti ($C$) i mokre trave ($W$) uvjetno nezavisne."
   ]
  },
  {
   "cell_type": "code",
   "execution_count": 5,
   "metadata": {
    "collapsed": false
   },
   "outputs": [
    {
     "data": {
      "text/plain": [
       "True"
      ]
     },
     "execution_count": 5,
     "metadata": {},
     "output_type": "execute_result"
    }
   ],
   "source": [
    "# Vaš kôd ovdje...\n",
    "model.is_active_trail('C','W')"
   ]
  },
  {
   "cell_type": "markdown",
   "metadata": {},
   "source": [
    "Što mora vrijediti kako te dvije varijable ne bi bile uvjetno nezavisne? Provjerite korištenjem iste funkcije."
   ]
  },
  {
   "cell_type": "code",
   "execution_count": 6,
   "metadata": {
    "collapsed": false
   },
   "outputs": [
    {
     "name": "stdout",
     "output_type": "stream",
     "text": [
      "(C _|_ W | S, R)\n",
      "(R _|_ S | C)\n",
      "(S _|_ R | C)\n",
      "(W _|_ C | S, R)\n"
     ]
    },
    {
     "data": {
      "text/plain": [
       "False"
      ]
     },
     "execution_count": 6,
     "metadata": {},
     "output_type": "execute_result"
    }
   ],
   "source": [
    "# Vaš kôd ovdje...\n",
    "print model.get_independencies()\n",
    "model.is_active_trail('C','W', observed=['S', 'R'])"
   ]
  },
  {
   "cell_type": "markdown",
   "metadata": {},
   "source": [
    "**Q:** Kako možemo na temelju grafa saznati koje dvije varijable su, uz neka opažanja, uvjetno nezavisne? <br>\n",
    "**Q:** Zašto bismo uopće htjeli znati koje su varijable u mreži uvjetno nezavisne?"
   ]
  },
  {
   "cell_type": "markdown",
   "metadata": {},
   "source": [
    "### 2. Naivan Bayesov klasifikator"
   ]
  },
  {
   "cell_type": "markdown",
   "metadata": {},
   "source": [
    "Iako je naivni Bayes specijalna podvrsta Bayesovih mreža i mogao bi se modelirati paketom [pgmpy](https://github.com/pgmpy/pgmpy), ipak ćemo se vratiti na paket `sklearn` (radi jednostavnosti). Za demonstraciju rada Bayesovog klasifikatora s diskretnim značajkama treba nam skup primjera s diskretnim značajkama i oznakama klase. Jedan takav ogledni skup podataka jest *digits*:"
   ]
  },
  {
   "cell_type": "code",
   "execution_count": 7,
   "metadata": {
    "collapsed": false
   },
   "outputs": [
    {
     "data": {
      "text/plain": [
       "<matplotlib.figure.Figure at 0xb0230f0>"
      ]
     },
     "metadata": {},
     "output_type": "display_data"
    },
    {
     "data": {
      "image/png": "[encoded data removed]",
      "text/plain": [
       "<matplotlib.figure.Figure at 0xadc4828>"
      ]
     },
     "metadata": {},
     "output_type": "display_data"
    }
   ],
   "source": [
    "from sklearn.datasets import load_digits\n",
    "digits = load_digits()\n",
    "\n",
    "plt.gray() \n",
    "plt.matshow(digits.images[0])\n",
    "plt.show()"
   ]
  },
  {
   "cell_type": "markdown",
   "metadata": {
    "collapsed": true
   },
   "source": [
    "#### (a)\n",
    "\n",
    "Ako na ovom skupu želimo trenirati Bernoullijev naivni Bayesov klasifikator, značajke trebamo binarizirati. Proučite funkciju [`binarize`](http://scikit-learn.org/stable/modules/generated/sklearn.preprocessing.binarize.html) i binarizirajte skup podataka.\n",
    "\n",
    "Na binariziranom skupu podataka možemo trenirati naš model. Naravno, da bismo mogli ispitati koliko dobro model radi, trebamo izdvojiti dio skupa za ispitivanje. Proučite funkciju [`train_test_split`](http://scikit-learn.org/stable/modules/generated/sklearn.model_selection.train_test_split.html#sklearn.model_selection.train_test_split) te načinite podjelu skupa na 70% primjera za učenje i 30% primjera za ispitivanje."
   ]
  },
  {
   "cell_type": "code",
   "execution_count": 8,
   "metadata": {
    "collapsed": false
   },
   "outputs": [
    {
     "name": "stderr",
     "output_type": "stream",
     "text": [
      "C:\\Users\\dreyus95\\Anaconda2\\lib\\site-packages\\sklearn\\cross_validation.py:44: DeprecationWarning: This module was deprecated in version 0.18 in favor of the model_selection module into which all the refactored classes and functions are moved. Also note that the interface of the new CV iterators are different from that of this module. This module will be removed in 0.20.\n",
      "  \"This module will be removed in 0.20.\", DeprecationWarning)\n"
     ]
    }
   ],
   "source": [
    "from sklearn.preprocessing import binarize\n",
    "from sklearn import cross_validation"
   ]
  },
  {
   "cell_type": "code",
   "execution_count": 9,
   "metadata": {
    "collapsed": false
   },
   "outputs": [],
   "source": [
    "# Vaš kôd ovdje...\n",
    "\n",
    "binarized = binarize(digits.data, threshold=9)\n",
    "X_train, X_test, y_train, y_test = cross_validation.train_test_split(binarized, digits.target, test_size=0.30)\n"
   ]
  },
  {
   "cell_type": "markdown",
   "metadata": {},
   "source": [
    "#### (b)\n",
    "\n",
    "Pročitajte opis modula [`naive_bayes`](http://scikit-learn.org/stable/modules/naive_bayes.html). Za klasifikaciju primjera s diskretnim značajkama treba nam tzv. *Bernoullijev naivni Bayes*, implementiran funkcijom [`BernoulliNB`](http://scikit-learn.org/stable/modules/generated/sklearn.naive_bayes.BernoulliNB.html#sklearn.naive_bayes.BernoulliNB]). Proučite tu funkciju. Trenirajte model na skupu *digits* (na skupu za učenje). Izračunajte točnost modela na skupu za učenje i na skupu za ispitivanje koristeći funkciju [`metrics.accuracy_score`](http://scikit-learn.org/stable/modules/generated/sklearn.metrics.accuracy_score.html)."
   ]
  },
  {
   "cell_type": "code",
   "execution_count": 10,
   "metadata": {
    "collapsed": false
   },
   "outputs": [
    {
     "name": "stdout",
     "output_type": "stream",
     "text": [
      "Accuracy train:  0.894988066826\n",
      "Accuracy test:  0.875925925926\n"
     ]
    }
   ],
   "source": [
    "import sklearn.naive_bayes as nbay\n",
    "from sklearn.metrics import accuracy_score\n",
    "\n",
    "# Vaš kôd ovdje...\n",
    "bnb = nbay.BernoulliNB()\n",
    "\n",
    "bnb.fit(X_train, y_train)\n",
    "out_train = bnb.predict(X_train)\n",
    "out_test = bnb.predict(X_test)\n",
    "\n",
    "print \"Accuracy train: \", accuracy_score(y_train, out_train)\n",
    "print \"Accuracy test: \", accuracy_score(y_test, out_test)"
   ]
  },
  {
   "cell_type": "markdown",
   "metadata": {},
   "source": [
    "**Q:** Je li odnos između tih dviju pogrešaka očekivan? Zašto?"
   ]
  },
  {
   "cell_type": "markdown",
   "metadata": {},
   "source": [
    "#### (c)\n",
    "\n",
    "Trenirajte model bez zaglađivanja (`alpha=0`) te izračunajte točnost takvog modela na oba skupa podataka."
   ]
  },
  {
   "cell_type": "code",
   "execution_count": 11,
   "metadata": {
    "collapsed": false
   },
   "outputs": [
    {
     "name": "stdout",
     "output_type": "stream",
     "text": [
      "Accuracy train:  0.101034208433\n",
      "Accuracy test:  0.0944444444444\n"
     ]
    },
    {
     "name": "stderr",
     "output_type": "stream",
     "text": [
      "C:\\Users\\dreyus95\\Anaconda2\\lib\\site-packages\\sklearn\\naive_bayes.py:801: RuntimeWarning: divide by zero encountered in log\n",
      "  self.feature_log_prob_ = (np.log(smoothed_fc) -\n",
      "C:\\Users\\dreyus95\\Anaconda2\\lib\\site-packages\\sklearn\\naive_bayes.py:820: RuntimeWarning: divide by zero encountered in log\n",
      "  neg_prob = np.log(1 - np.exp(self.feature_log_prob_))\n"
     ]
    }
   ],
   "source": [
    "# Vaš kôd ovdje...\n",
    "bnb = nbay.BernoulliNB(alpha=0)\n",
    "\n",
    "bnb.fit(X_train, y_train)\n",
    "out_train = bnb.predict(X_train)\n",
    "out_test = bnb.predict(X_test)\n",
    "\n",
    "print \"Accuracy train: \", accuracy_score(y_train, out_train)\n",
    "print \"Accuracy test: \", accuracy_score(y_test, out_test)"
   ]
  },
  {
   "cell_type": "markdown",
   "metadata": {},
   "source": [
    "**Q:** U čemu je problem? Opišite svojim riječima."
   ]
  },
  {
   "cell_type": "markdown",
   "metadata": {},
   "source": [
    "### 3. Bayesov klasifikator za kontinuirane značajke"
   ]
  },
  {
   "cell_type": "markdown",
   "metadata": {},
   "source": [
    "#### (a)\n",
    "\n",
    "Učitajte skup podataka *Iris* i podijelite ga skup za učenje i skup za provjeru u omjeru 70:30. Koristite funkciju [`datasets.load_iris`](http://scikit-learn.org/stable/modules/generated/sklearn.datasets.load_iris.html)."
   ]
  },
  {
   "cell_type": "code",
   "execution_count": 12,
   "metadata": {
    "collapsed": false
   },
   "outputs": [],
   "source": [
    "from sklearn.datasets import load_iris\n",
    "from sklearn import cross_validation\n",
    "\n",
    "# Vaš kôd ovdje...\n",
    "iris = load_iris()\n",
    "X_train, X_test, y_train, y_test = cross_validation.train_test_split(iris.data, iris.target, test_size=0.30)"
   ]
  },
  {
   "cell_type": "markdown",
   "metadata": {},
   "source": [
    "#### (b)\n",
    "\n",
    "Proučite razred [`GaussianNB`](http://scikit-learn.org/stable/modules/generated/sklearn.naive_bayes.GaussianNB.html) koji implementira naivan Bayesov klasifikator za kontinuirane značajke. Trenirajte model na skupu za učenje *Iris* i vrednujte njegovu točnost na skupu za ispitivanje."
   ]
  },
  {
   "cell_type": "code",
   "execution_count": 13,
   "metadata": {
    "collapsed": false
   },
   "outputs": [
    {
     "name": "stdout",
     "output_type": "stream",
     "text": [
      "Accuracy test:  0.955555555556\n"
     ]
    }
   ],
   "source": [
    "# Vaš kôd ovdje...\n",
    "gnb = nbay.GaussianNB()\n",
    "\n",
    "gnb.fit(X_train, y_train)\n",
    "out_test = gnb.predict(X_test)\n",
    "\n",
    "print \"Accuracy test: \", accuracy_score(y_test, out_test)"
   ]
  },
  {
   "cell_type": "markdown",
   "metadata": {},
   "source": [
    "#### (c)\n",
    "\n",
    "Naivan Bayesov klasifikator u potpunosti zanemaruje korelacije između varijabli. Postavlja se pitanje bi li klasifikator na skupu *Iris* dosezao veću točnost kada bi modelirao (linearne) zavisnosti između varijabli.\n",
    "\n",
    "Implementirajte Bayesov klasifikator s punom kovarijacijskom matricom za svaku klasu (dakle: nedijeljenom i nedijagonalnom kovarijacijskom matricom). Implementacija se sastoji od dvije funkcije: `train_GB` i `predict_GB`. Funkcija `train_GB(X,y)` neka trenira model Bayesovog klasifikatora sa Gaussovim gustoćama vjerojatnosti i vraća trenirani model. Za procjenu vektora srednjih vrijednosti $\\mu_j$ i kovarijacijskih matrica $\\Sigma_j$ možete koristiti [ove](http://docs.scipy.org/doc/numpy/reference/routines.statistics.html) funkcije. Funkcija `predict_GB(model,X)` neka daje predikcije modela na svim primjerima iz `X`. Alternativno, model možete implementirati kao klasu, a funkcije `train_GB` i `predict_GB` kao njezine metode.\n"
   ]
  },
  {
   "cell_type": "code",
   "execution_count": 14,
   "metadata": {
    "collapsed": false
   },
   "outputs": [],
   "source": [
    "# Vaš kôd ovdje...\n",
    "from collections import Counter\n",
    "import math\n",
    "\n",
    "class Bayes:\n",
    "    \n",
    "    def __init__(self, data):\n",
    "        self.numClasses =  len(Counter(data.target).keys()) # number of different classes in dataset\n",
    "        self.covs = []  # covariance matrices for each class\n",
    "        self.covs_det = [] # covariance matrices determinants \n",
    "        self.means = [] # mean for each class\n",
    "        self.y_p = [] # probability of y=j, j=0...self.numClasses\n",
    "    \n",
    "    def fit(self, X, y):\n",
    "        \"\"\"\n",
    "            Fits the model to the given data.\n",
    "            Computes probalities of each class, and calculates required covariances and means per class.\n",
    "        \"\"\"\n",
    "        for c in range(self.numClasses):\n",
    "            datas = []\n",
    "            targets = 0\n",
    "            for data,target in zip(X,y):\n",
    "                if target == c:\n",
    "                    datas.append(data)\n",
    "                    targets += 1\n",
    "            self.y_p.append(1.0*targets / len(y))\n",
    "            self.means.append(np.array(sp.mean(datas, axis=0)))\n",
    "            self.covs.append(sp.absolute(sp.cov(datas, rowvar=0)))\n",
    "            self.covs_det.append(sp.linalg.det(self.covs[c]))\n",
    "                    \n",
    "    \n",
    "    def predict(self, X):\n",
    "        \"\"\"\n",
    "            Predicts a class for each input x from dataset X.\n",
    "        \"\"\"\n",
    "        predictions = []\n",
    "        for x in X:\n",
    "            h = []\n",
    "            for i in range(self.numClasses):\n",
    "                res = -0.5*np.log(self.covs_det[i])\n",
    "                \n",
    "                mid = np.subtract(x, self.means[i]).T.dot(sp.linalg.inv(self.covs[i]))\n",
    "                mid = mid.dot(np.subtract(x, self.means[i]))\n",
    "                \n",
    "                res -= 0.5*mid\n",
    "                res += np.log(self.y_p[i])\n",
    "                h.append(res)\n",
    "            predictions.append(np.argmax(h)) # append the class with the highest probability\n",
    "        return predictions"
   ]
  },
  {
   "cell_type": "markdown",
   "metadata": {},
   "source": [
    "#### (d)\n",
    "\n",
    "Izračunajte točnost modela na ispitnome dijelu skupa *Iris* i usporedite je s točnošću naivnog Bayesovog klasifikatora iz podzadatka (b)."
   ]
  },
  {
   "cell_type": "code",
   "execution_count": 15,
   "metadata": {
    "collapsed": false
   },
   "outputs": [
    {
     "name": "stdout",
     "output_type": "stream",
     "text": [
      "Accuracy on test:  0.977777777778\n"
     ]
    }
   ],
   "source": [
    "# Vaš kôd ovdje...\n",
    "model = Bayes(iris)\n",
    "model.fit(X_train, y_train)\n",
    "predictions = model.predict(X_test)\n",
    "\n",
    "print \"Accuracy on test: \", \"1.0, fully accurate!\" if all(predictions == y_test) else accuracy_score(y_test, predictions)"
   ]
  }
 ],
 "metadata": {
  "anaconda-cloud": {},
  "kernelspec": {
   "display_name": "Python 2",
   "language": "python",
   "name": "python2"
  },
  "language_info": {
   "codemirror_mode": {
    "name": "ipython",
    "version": 2
   },
   "file_extension": ".py",
   "mimetype": "text/x-python",
   "name": "python",
   "nbconvert_exporter": "python",
   "pygments_lexer": "ipython2",
   "version": "2.7.13"
  }
 },
 "nbformat": 4,
 "nbformat_minor": 1
}
